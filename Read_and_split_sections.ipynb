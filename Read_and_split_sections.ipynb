{
 "cells": [
  {
   "cell_type": "code",
   "execution_count": 51,
   "id": "36bae14a-a918-4d5c-ba80-c0b54813a3c2",
   "metadata": {},
   "outputs": [],
   "source": [
    "import numpy as np\n",
    "import os\n",
    "from pathlib import Path"
   ]
  },
  {
   "cell_type": "markdown",
   "id": "db1a7bde-1fe9-4e77-8b6b-6c4d8b099339",
   "metadata": {},
   "source": [
    "##### Split the Parvas into sections"
   ]
  },
  {
   "cell_type": "code",
   "execution_count": 75,
   "id": "a063c792-e489-4d86-bc57-18bee04e8851",
   "metadata": {},
   "outputs": [],
   "source": [
    "mbh_path = \"C:/Users/Owner/Desktop/Projects/Research/Ancient_Text_Authorship_Analysis/Data/Mahabharat_BORI_CE/\"\n",
    "save_path = mbh_path +\"sections/\"\n",
    "targetstring = \"\\medskip\""
   ]
  },
  {
   "cell_type": "code",
   "execution_count": 81,
   "id": "3b9c8a0c-e581-4eae-ab41-26596d6ed842",
   "metadata": {},
   "outputs": [],
   "source": [
    "# Set the name of your large text file and the target string\n",
    "for n in range(18):\n",
    "#for n in [17]:    \n",
    "    n1 = f\"{n+1:02d}\"\n",
    "    mbh_parva = mbh_path + \"mbh\"+str(n1)+\".txt\"\n",
    "    target_string = \"\\medskip\"\n",
    "    \n",
    "    # Initialize variables\n",
    "    current_output_file = None\n",
    "    output_file_counter = 1\n",
    "    \n",
    "    # Open the large text file for reading\n",
    "    with open(mbh_parva, 'r') as large_file:        \n",
    "        for line in large_file:\n",
    "            # Check if the target string appears in the line\n",
    "            if target_string in line:\n",
    "                # Close the current output file (if it exists)\n",
    "                if current_output_file:\n",
    "                    current_output_file.close()\n",
    "                \n",
    "                # Create a new output file\n",
    "                output_file_name = save_path+ \"mbh\"+str(n1)+\"_\"+str(output_file_counter)+\".txt\"\n",
    "                current_output_file = open(output_file_name, 'w')\n",
    "                output_file_counter += 1 \n",
    "                \n",
    "                # if Path(output_file_name).stat().st_size > min_file_size:\n",
    "                #    output_file_counter -= 1 \n",
    "            # Append the current line to the current output file\n",
    "            if current_output_file:\n",
    "                current_output_file.write(line)\n",
    "                #print(output_file_name, Path(output_file_name).stat().st_size)\n",
    "    # Close the last output file\n",
    "    if current_output_file:\n",
    "        current_output_file.close()"
   ]
  },
  {
   "cell_type": "markdown",
   "id": "8058a0c2-27eb-44a0-aaa2-3767844f726c",
   "metadata": {},
   "source": [
    "#### Remove the files that only contain the title or number (hence smaller than 300 b)"
   ]
  },
  {
   "cell_type": "code",
   "execution_count": 121,
   "id": "e50d66d1-5723-4580-9b6c-bc7b7abf1c48",
   "metadata": {},
   "outputs": [
    {
     "name": "stdout",
     "output_type": "stream",
     "text": [
      "CPU times: total: 359 ms\n",
      "Wall time: 429 ms\n"
     ]
    }
   ],
   "source": [
    "%%time\n",
    "directory = os.listdir(save_path)\n",
    "# for n in range(18):\n",
    "#      n1 = f\"{n+1:02d}\"\n",
    "#      searchstring =  \"mbh\"+str(n1)\n",
    "    \n",
    "for fname in directory:\n",
    "    #print(fname)\n",
    "    if os.path.isfile(save_path  + fname):\n",
    "        if Path(save_path + fname).stat().st_size<300:            \n",
    "            os.remove(save_path + fname) \n",
    "        "
   ]
  },
  {
   "cell_type": "markdown",
   "id": "192dabd5-21af-4db7-9324-df20d9dd66f3",
   "metadata": {},
   "source": [
    "##### Rename files accordinly"
   ]
  },
  {
   "cell_type": "code",
   "execution_count": 125,
   "id": "00bb6d3e-c62a-448d-97c8-9c79c6d8b43e",
   "metadata": {},
   "outputs": [
    {
     "name": "stdout",
     "output_type": "stream",
     "text": [
      "CPU times: total: 1.78 s\n",
      "Wall time: 2.02 s\n"
     ]
    }
   ],
   "source": [
    "%%time\n",
    "directory = os.listdir(save_path)\n",
    "   \n",
    "for fname in directory:\n",
    "    #print(fname)\n",
    "    if os.path.isfile(save_path  + fname):\n",
    "        n_old = int(fname[6:-4])\n",
    "        n_new = int ((n_old +1+0.0001)/2) \n",
    "        new_name = 'MB_'+fname[3:6]+str(n_new)+\".txt\"\n",
    "        os.rename(save_path+fname, save_path+new_name)"
   ]
  }
 ],
 "metadata": {
  "kernelspec": {
   "display_name": "Python 3 (ipykernel)",
   "language": "python",
   "name": "python3"
  },
  "language_info": {
   "codemirror_mode": {
    "name": "ipython",
    "version": 3
   },
   "file_extension": ".py",
   "mimetype": "text/x-python",
   "name": "python",
   "nbconvert_exporter": "python",
   "pygments_lexer": "ipython3",
   "version": "3.10.13"
  }
 },
 "nbformat": 4,
 "nbformat_minor": 5
}
